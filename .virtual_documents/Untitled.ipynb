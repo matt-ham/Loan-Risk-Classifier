import pandas as pd
import numpy as np
import matplotlib.pyplot as plt
import seaborn as sns
from scipy import stats


## 1: 
df = pd.read_json('./data/raw/loan_approval_dataset.json')


# Histograms
for col in df.columns:
    colname = col.replace("/","_")
    if df[col].dtype == 'object':
        plt.figure(figsize=(10,6))
        sns.histplot(df,x=col)
        plt.savefig(f'./results/figures/EDA/{colname}_histogram.png')
        plt.show()
    elif col not in ['Id']:
        plt.figure(figsize=(10,6))
        #sns.boxplot(df,x=col)
        sns.histplot(df,x=col,bins=10)
        plt.savefig(f'./results/figures/EDA/{colname}__histogram.png')
        plt.show()


df.describe(include='all')


df.duplicated().sum() # No Dupes


df.isna().sum() # No NA's
